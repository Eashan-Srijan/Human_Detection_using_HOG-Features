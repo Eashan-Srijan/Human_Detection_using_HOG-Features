{
 "cells": [
  {
   "cell_type": "code",
   "execution_count": 1,
   "id": "bd0eb049",
   "metadata": {},
   "outputs": [],
   "source": [
    "from skimage.feature import hog"
   ]
  },
  {
   "cell_type": "code",
   "execution_count": 2,
   "id": "35b38287",
   "metadata": {},
   "outputs": [],
   "source": [
    "import matplotlib.image as mpimg"
   ]
  },
  {
   "cell_type": "code",
   "execution_count": 4,
   "id": "29ffd3b1",
   "metadata": {},
   "outputs": [],
   "source": [
    "import numpy as np"
   ]
  },
  {
   "cell_type": "code",
   "execution_count": 5,
   "id": "3269cc38",
   "metadata": {},
   "outputs": [],
   "source": [
    "image = mpimg.imread(\"train/positive/crop_000010b.bmp\")"
   ]
  },
  {
   "cell_type": "code",
   "execution_count": 6,
   "id": "e74bbd2b",
   "metadata": {},
   "outputs": [],
   "source": [
    "new_image = np.round(np.dot(image[...,:3], [0.299, 0.587, 0.114]))"
   ]
  },
  {
   "cell_type": "code",
   "execution_count": 8,
   "id": "f4366f3a",
   "metadata": {},
   "outputs": [
    {
     "data": {
      "text/plain": [
       "array([[ 66.,  66.,  92., ..., 178., 183., 155.],\n",
       "       [ 66.,  66.,  92., ..., 178., 183., 155.],\n",
       "       [ 71.,  71.,  89., ..., 178., 152., 125.],\n",
       "       ...,\n",
       "       [130., 130., 124., ...,  59.,  62.,  61.],\n",
       "       [130., 130., 124., ...,  59.,  62.,  61.],\n",
       "       [130., 130., 124., ...,  59.,  62.,  61.]])"
      ]
     },
     "execution_count": 8,
     "metadata": {},
     "output_type": "execute_result"
    }
   ],
   "source": [
    "new_image"
   ]
  },
  {
   "cell_type": "code",
   "execution_count": 18,
   "id": "7bc13241",
   "metadata": {},
   "outputs": [],
   "source": [
    "import cv2\n",
    "\n",
    "image = cv2.imread(\"train/positive/crop_000010b.bmp\")"
   ]
  },
  {
   "cell_type": "code",
   "execution_count": 20,
   "id": "3d7c9e1f",
   "metadata": {},
   "outputs": [
    {
     "data": {
      "text/plain": [
       "numpy.ndarray"
      ]
     },
     "execution_count": 20,
     "metadata": {},
     "output_type": "execute_result"
    }
   ],
   "source": [
    "type(image)"
   ]
  },
  {
   "cell_type": "code",
   "execution_count": null,
   "id": "ae85826d",
   "metadata": {},
   "outputs": [],
   "source": []
  }
 ],
 "metadata": {
  "kernelspec": {
   "display_name": "Python 3 (ipykernel)",
   "language": "python",
   "name": "python3"
  },
  "language_info": {
   "codemirror_mode": {
    "name": "ipython",
    "version": 3
   },
   "file_extension": ".py",
   "mimetype": "text/x-python",
   "name": "python",
   "nbconvert_exporter": "python",
   "pygments_lexer": "ipython3",
   "version": "3.7.11"
  }
 },
 "nbformat": 4,
 "nbformat_minor": 5
}
